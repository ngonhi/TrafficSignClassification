{
 "cells": [
  {
   "cell_type": "code",
   "execution_count": 1,
   "metadata": {},
   "outputs": [],
   "source": [
    "import os\n",
    "import pandas as pd\n",
    "from imageio import imread\n",
    "import math\n",
    "import numpy as np\n",
    "import cv2\n",
    "import seaborn as sns\n",
    "import matplotlib.pyplot as plt\n",
    "\n",
    "from sklearn.svm import SVC,LinearSVC\n",
    "from sklearn.model_selection import cross_val_score, train_test_split\n",
    "from sklearn.metrics import classification_report\n",
    "import pickle\n",
    "\n",
    "import warnings\n",
    "warnings.filterwarnings(\"ignore\", category=DeprecationWarning)\n",
    "%matplotlib inline"
   ]
  },
  {
   "cell_type": "markdown",
   "metadata": {},
   "source": [
    "# SVM với processed_img"
   ]
  },
  {
   "cell_type": "code",
   "execution_count": 2,
   "metadata": {},
   "outputs": [],
   "source": [
    "data_dir = 'C:\\\\Users\\\\nhinp3\\\\Documents\\\\BML_Final project'\n",
    "processed_train_path = 'Processed/trainProcessed.npy'\n",
    "processed_test_path = 'Processed/testProcessed.npy'"
   ]
  },
  {
   "cell_type": "code",
   "execution_count": 3,
   "metadata": {},
   "outputs": [],
   "source": [
    "def load_data(filedir, filepath, csvfile):\n",
    "    data = np.load(os.path.join(filedir, filepath), allow_pickle=True)\n",
    "    train_info = pd.read_csv(os.path.join(filedir, csvfile))\n",
    "    labels = np.array(train_info['ClassId'])\n",
    "    \n",
    "    return data, labels\n"
   ]
  },
  {
   "cell_type": "code",
   "execution_count": 4,
   "metadata": {},
   "outputs": [],
   "source": [
    "trainProcessedData, trainLabels = load_data(data_dir, processed_train_path, 'Train.csv')"
   ]
  },
  {
   "cell_type": "code",
   "execution_count": 5,
   "metadata": {},
   "outputs": [
    {
     "name": "stdout",
     "output_type": "stream",
     "text": [
      "(39209, 32, 32, 3)\n",
      "39209\n"
     ]
    },
    {
     "data": {
      "image/png": "[encoded data removed]",
      "text/plain": [
       "<Figure size 432x288 with 1 Axes>"
      ]
     },
     "metadata": {
      "needs_background": "light"
     },
     "output_type": "display_data"
    }
   ],
   "source": [
    "print(trainProcessedData.shape)\n",
    "print(len(trainLabels))\n",
    "plt.imshow(trainProcessedData[0])\n",
    "plt.show()"
   ]
  },
  {
   "cell_type": "code",
   "execution_count": 6,
   "metadata": {},
   "outputs": [],
   "source": [
    "testProcessedData, testLabels = load_data(data_dir, processed_test_path, 'Test.csv')"
   ]
  },
  {
   "cell_type": "code",
   "execution_count": 7,
   "metadata": {
    "scrolled": true
   },
   "outputs": [
    {
     "name": "stdout",
     "output_type": "stream",
     "text": [
      "(12630, 32, 32, 3)\n",
      "12630\n"
     ]
    },
    {
     "data": {
      "image/png": "[encoded data removed]",
      "text/plain": [
       "<Figure size 432x288 with 1 Axes>"
      ]
     },
     "metadata": {
      "needs_background": "light"
     },
     "output_type": "display_data"
    }
   ],
   "source": [
    "print(testProcessedData.shape)\n",
    "print(len(testLabels))\n",
    "plt.imshow(testProcessedData[0])\n",
    "plt.show()"
   ]
  },
  {
   "cell_type": "code",
   "execution_count": 8,
   "metadata": {},
   "outputs": [],
   "source": [
    "def randomize_data(labels, data):\n",
    "    randomize = np.arange(len(labels))\n",
    "    np.random.shuffle(randomize)\n",
    "    X = data[randomize]\n",
    "    y = labels[randomize]\n",
    "    \n",
    "    return X, y"
   ]
  },
  {
   "cell_type": "code",
   "execution_count": 9,
   "metadata": {},
   "outputs": [],
   "source": [
    "trainProcessedData, trainLabels = randomize_data(trainLabels, trainProcessedData)"
   ]
  },
  {
   "cell_type": "code",
   "execution_count": 10,
   "metadata": {},
   "outputs": [],
   "source": [
    "estimators = [1, 10, 50, 100, 500]\n",
    "def train_model(estimators, trainData, trainLabels, testData, testLabels):\n",
    "    for n in estimators:\n",
    "        print(f'Linear SVM WITH C={n}')\n",
    "        if os.path.isfile(f\"svm_{str(n)}_processed_nofe.pkl\"):\n",
    "            print(\"[INFO] loading classifier: SVM trained on ori images...\")\n",
    "            svm = pickle.load(open(f\"svm_{str(n)}_processed_nofe.pkl\", 'rb'))\n",
    "            print(\"[INFO] Classifer is loaded as instance ::rf::\")\n",
    "        else:\n",
    "            print(\"[INFO] pre-trained classifier not found. \\n Training Classifier SVM\")\n",
    "            svm = LinearSVC(C=n, class_weight='balanced')\n",
    "            svm.fit(trainData.reshape(len(trainLabels), -1),trainLabels)\n",
    "            print(\"[INFO] Succefully trained the classsifier. \\n Saving the classifier for further use\")\n",
    "            pickle.dump(svm, open(f\"svm_{str(n)}_processed_nofe.pkl\", 'wb')) \n",
    "            print(\"[INFO] Classifier Saved\")\n",
    "            \n",
    "        predictions = svm.predict(testData.reshape(len(testLabels), -1))\n",
    " \n",
    "        # show a final classification report demonstrating the accuracy of the classifier\n",
    "        print(\"EVALUATION ON TESTING DATA FOR\" + str(n) + 'SVM')\n",
    "        print(classification_report(testLabels, predictions))\n",
    "        \n",
    "        print(\"ACCURACY ON TRAINING DATA\")\n",
    "        print(svm.score(trainData.reshape(len(trainLabels), -1), trainLabels))\n",
    "        print('-------------------------------------------------------')"
   ]
  },
  {
   "cell_type": "code",
   "execution_count": 11,
   "metadata": {
    "scrolled": true
   },
   "outputs": [
    {
     "name": "stdout",
     "output_type": "stream",
     "text": [
      "Linear SVM WITH C=1\n",
      "[INFO] loading classifier: SVM trained on ori images...\n",
      "[INFO] Classifer is loaded as instance ::rf::\n",
      "EVALUATION ON TESTING DATA FOR1SVM\n",
      "              precision    recall  f1-score   support\n",
      "\n",
      "           0       0.35      0.12      0.17        60\n",
      "           1       0.64      0.72      0.68       720\n",
      "           2       0.75      0.74      0.75       750\n",
      "           3       0.73      0.64      0.68       450\n",
      "           4       0.71      0.75      0.73       660\n",
      "           5       0.59      0.73      0.65       630\n",
      "           6       0.83      0.57      0.67       150\n",
      "           7       0.66      0.66      0.66       450\n",
      "           8       0.51      0.62      0.56       450\n",
      "           9       0.74      0.82      0.78       480\n",
      "          10       0.85      0.90      0.88       660\n",
      "          11       0.68      0.67      0.67       420\n",
      "          12       0.94      0.89      0.91       690\n",
      "          13       0.89      0.90      0.89       720\n",
      "          14       0.94      0.81      0.87       270\n",
      "          15       0.58      0.52      0.55       210\n",
      "          16       0.82      0.85      0.83       150\n",
      "          17       0.88      0.77      0.82       360\n",
      "          18       0.66      0.59      0.62       390\n",
      "          19       0.26      0.15      0.19        60\n",
      "          20       0.23      0.30      0.26        90\n",
      "          21       0.31      0.37      0.34        90\n",
      "          22       0.73      0.75      0.74       120\n",
      "          23       0.56      0.51      0.53       150\n",
      "          24       0.35      0.39      0.37        90\n",
      "          25       0.79      0.64      0.71       480\n",
      "          26       0.68      0.56      0.61       180\n",
      "          27       0.47      0.40      0.43        60\n",
      "          28       0.50      0.48      0.49       150\n",
      "          29       0.56      0.52      0.54        90\n",
      "          30       0.43      0.33      0.37       150\n",
      "          31       0.55      0.80      0.65       270\n",
      "          32       0.78      0.77      0.77        60\n",
      "          33       0.87      0.82      0.85       210\n",
      "          34       0.76      0.96      0.85       120\n",
      "          35       0.93      0.90      0.91       390\n",
      "          36       0.83      0.88      0.86       120\n",
      "          37       0.80      0.68      0.74        60\n",
      "          38       0.91      0.82      0.86       690\n",
      "          39       0.87      0.87      0.87        90\n",
      "          40       0.67      0.51      0.58        90\n",
      "          41       0.79      0.70      0.74        60\n",
      "          42       0.61      0.63      0.62        90\n",
      "\n",
      "    accuracy                           0.73     12630\n",
      "   macro avg       0.67      0.65      0.66     12630\n",
      "weighted avg       0.73      0.73      0.73     12630\n",
      "\n",
      "ACCURACY ON TRAINING DATA\n",
      "0.971919712310949\n",
      "-------------------------------------------------------\n",
      "Linear SVM WITH C=10\n",
      "[INFO] loading classifier: SVM trained on ori images...\n",
      "[INFO] Classifer is loaded as instance ::rf::\n",
      "EVALUATION ON TESTING DATA FOR10SVM\n",
      "              precision    recall  f1-score   support\n",
      "\n",
      "           0       0.23      0.08      0.12        60\n",
      "           1       0.58      0.73      0.65       720\n",
      "           2       0.75      0.71      0.73       750\n",
      "           3       0.54      0.76      0.64       450\n",
      "           4       0.64      0.73      0.68       660\n",
      "           5       0.68      0.53      0.60       630\n",
      "           6       0.81      0.58      0.68       150\n",
      "           7       0.66      0.64      0.65       450\n",
      "           8       0.60      0.49      0.54       450\n",
      "           9       0.77      0.78      0.77       480\n",
      "          10       0.80      0.89      0.84       660\n",
      "          11       0.64      0.68      0.66       420\n",
      "          12       0.94      0.88      0.91       690\n",
      "          13       0.88      0.89      0.88       720\n",
      "          14       0.93      0.78      0.85       270\n",
      "          15       0.52      0.54      0.53       210\n",
      "          16       0.78      0.89      0.83       150\n",
      "          17       0.88      0.74      0.80       360\n",
      "          18       0.62      0.61      0.62       390\n",
      "          19       0.23      0.15      0.18        60\n",
      "          20       0.22      0.28      0.24        90\n",
      "          21       0.29      0.34      0.32        90\n",
      "          22       0.74      0.74      0.74       120\n",
      "          23       0.54      0.49      0.51       150\n",
      "          24       0.32      0.37      0.34        90\n",
      "          25       0.77      0.63      0.69       480\n",
      "          26       0.68      0.54      0.60       180\n",
      "          27       0.45      0.37      0.40        60\n",
      "          28       0.46      0.46      0.46       150\n",
      "          29       0.55      0.53      0.54        90\n",
      "          30       0.45      0.36      0.40       150\n",
      "          31       0.55      0.78      0.65       270\n",
      "          32       0.78      0.75      0.76        60\n",
      "          33       0.88      0.82      0.85       210\n",
      "          34       0.75      0.95      0.84       120\n",
      "          35       0.92      0.89      0.90       390\n",
      "          36       0.84      0.88      0.86       120\n",
      "          37       0.75      0.67      0.71        60\n",
      "          38       0.89      0.81      0.85       690\n",
      "          39       0.85      0.79      0.82        90\n",
      "          40       0.59      0.49      0.53        90\n",
      "          41       0.78      0.72      0.75        60\n",
      "          42       0.58      0.63      0.60        90\n",
      "\n",
      "    accuracy                           0.71     12630\n",
      "   macro avg       0.65      0.64      0.64     12630\n",
      "weighted avg       0.72      0.71      0.71     12630\n",
      "\n",
      "ACCURACY ON TRAINING DATA\n",
      "0.9685786426585733\n",
      "-------------------------------------------------------\n",
      "Linear SVM WITH C=50\n",
      "[INFO] loading classifier: SVM trained on ori images...\n",
      "[INFO] Classifer is loaded as instance ::rf::\n",
      "EVALUATION ON TESTING DATA FOR50SVM\n",
      "              precision    recall  f1-score   support\n",
      "\n",
      "           0       0.38      0.08      0.14        60\n",
      "           1       0.88      0.19      0.31       720\n",
      "           2       0.62      0.56      0.59       750\n",
      "           3       0.39      0.67      0.49       450\n",
      "           4       0.61      0.71      0.66       660\n",
      "           5       0.25      0.87      0.38       630\n",
      "           6       0.92      0.51      0.65       150\n",
      "           7       0.76      0.49      0.60       450\n",
      "           8       0.56      0.41      0.47       450\n",
      "           9       0.72      0.66      0.69       480\n",
      "          10       0.77      0.84      0.81       660\n",
      "          11       0.65      0.68      0.66       420\n",
      "          12       0.96      0.86      0.90       690\n",
      "          13       0.90      0.87      0.88       720\n",
      "          14       0.96      0.71      0.82       270\n",
      "          15       0.61      0.36      0.45       210\n",
      "          16       0.87      0.74      0.80       150\n",
      "          17       0.89      0.71      0.79       360\n",
      "          18       0.69      0.51      0.59       390\n",
      "          19       0.34      0.17      0.22        60\n",
      "          20       0.23      0.23      0.23        90\n",
      "          21       0.33      0.33      0.33        90\n",
      "          22       0.76      0.74      0.75       120\n",
      "          23       0.59      0.45      0.51       150\n",
      "          24       0.38      0.33      0.35        90\n",
      "          25       0.83      0.58      0.68       480\n",
      "          26       0.70      0.52      0.60       180\n",
      "          27       0.53      0.35      0.42        60\n",
      "          28       0.50      0.42      0.46       150\n",
      "          29       0.65      0.49      0.56        90\n",
      "          30       0.47      0.29      0.36       150\n",
      "          31       0.61      0.73      0.66       270\n",
      "          32       0.83      0.80      0.81        60\n",
      "          33       0.88      0.80      0.84       210\n",
      "          34       0.77      0.92      0.84       120\n",
      "          35       0.95      0.84      0.89       390\n",
      "          36       0.90      0.82      0.86       120\n",
      "          37       0.89      0.70      0.79        60\n",
      "          38       0.90      0.81      0.85       690\n",
      "          39       0.89      0.72      0.80        90\n",
      "          40       0.65      0.46      0.54        90\n",
      "          41       0.88      0.60      0.71        60\n",
      "          42       0.73      0.59      0.65        90\n",
      "\n",
      "    accuracy                           0.64     12630\n",
      "   macro avg       0.69      0.58      0.61     12630\n",
      "weighted avg       0.72      0.64      0.65     12630\n",
      "\n",
      "ACCURACY ON TRAINING DATA\n"
     ]
    },
    {
     "name": "stdout",
     "output_type": "stream",
     "text": [
      "0.9000739626106251\n",
      "-------------------------------------------------------\n",
      "Linear SVM WITH C=100\n",
      "[INFO] loading classifier: SVM trained on ori images...\n",
      "[INFO] Classifer is loaded as instance ::rf::\n",
      "EVALUATION ON TESTING DATA FOR100SVM\n",
      "              precision    recall  f1-score   support\n",
      "\n",
      "           0       0.33      0.08      0.13        60\n",
      "           1       0.61      0.67      0.64       720\n",
      "           2       0.64      0.71      0.67       750\n",
      "           3       0.40      0.82      0.54       450\n",
      "           4       0.78      0.67      0.72       660\n",
      "           5       0.50      0.64      0.56       630\n",
      "           6       0.89      0.56      0.69       150\n",
      "           7       0.71      0.61      0.65       450\n",
      "           8       0.54      0.47      0.51       450\n",
      "           9       0.74      0.78      0.76       480\n",
      "          10       0.86      0.85      0.85       660\n",
      "          11       0.66      0.67      0.67       420\n",
      "          12       0.95      0.87      0.91       690\n",
      "          13       0.86      0.89      0.87       720\n",
      "          14       0.94      0.76      0.84       270\n",
      "          15       0.60      0.45      0.51       210\n",
      "          16       0.83      0.81      0.82       150\n",
      "          17       0.89      0.75      0.82       360\n",
      "          18       0.61      0.60      0.61       390\n",
      "          19       0.26      0.15      0.19        60\n",
      "          20       0.21      0.24      0.23        90\n",
      "          21       0.32      0.34      0.33        90\n",
      "          22       0.75      0.74      0.74       120\n",
      "          23       0.57      0.47      0.51       150\n",
      "          24       0.35      0.36      0.35        90\n",
      "          25       0.82      0.61      0.70       480\n",
      "          26       0.69      0.54      0.61       180\n",
      "          27       0.50      0.35      0.41        60\n",
      "          28       0.51      0.45      0.48       150\n",
      "          29       0.56      0.50      0.53        90\n",
      "          30       0.43      0.33      0.37       150\n",
      "          31       0.54      0.80      0.64       270\n",
      "          32       0.76      0.68      0.72        60\n",
      "          33       0.88      0.80      0.84       210\n",
      "          34       0.78      0.94      0.86       120\n",
      "          35       0.93      0.87      0.90       390\n",
      "          36       0.85      0.87      0.86       120\n",
      "          37       0.80      0.67      0.73        60\n",
      "          38       0.90      0.80      0.85       690\n",
      "          39       0.85      0.81      0.83        90\n",
      "          40       0.64      0.46      0.53        90\n",
      "          41       0.80      0.60      0.69        60\n",
      "          42       0.67      0.62      0.65        90\n",
      "\n",
      "    accuracy                           0.70     12630\n",
      "   macro avg       0.67      0.62      0.63     12630\n",
      "weighted avg       0.71      0.70      0.70     12630\n",
      "\n",
      "ACCURACY ON TRAINING DATA\n",
      "0.9661047208549057\n",
      "-------------------------------------------------------\n",
      "Linear SVM WITH C=500\n",
      "[INFO] loading classifier: SVM trained on ori images...\n",
      "[INFO] Classifer is loaded as instance ::rf::\n",
      "EVALUATION ON TESTING DATA FOR500SVM\n",
      "              precision    recall  f1-score   support\n",
      "\n",
      "           0       0.25      0.05      0.08        60\n",
      "           1       0.36      0.87      0.50       720\n",
      "           2       0.77      0.60      0.67       750\n",
      "           3       0.64      0.66      0.65       450\n",
      "           4       0.74      0.63      0.68       660\n",
      "           5       0.66      0.51      0.57       630\n",
      "           6       0.85      0.57      0.69       150\n",
      "           7       0.74      0.57      0.64       450\n",
      "           8       0.52      0.50      0.51       450\n",
      "           9       0.76      0.79      0.78       480\n",
      "          10       0.83      0.87      0.85       660\n",
      "          11       0.64      0.67      0.65       420\n",
      "          12       0.94      0.88      0.91       690\n",
      "          13       0.88      0.89      0.89       720\n",
      "          14       0.95      0.77      0.85       270\n",
      "          15       0.60      0.40      0.48       210\n",
      "          16       0.81      0.85      0.83       150\n",
      "          17       0.90      0.74      0.81       360\n",
      "          18       0.67      0.58      0.62       390\n",
      "          19       0.23      0.15      0.18        60\n",
      "          20       0.22      0.28      0.25        90\n",
      "          21       0.31      0.36      0.33        90\n",
      "          22       0.75      0.74      0.75       120\n",
      "          23       0.59      0.48      0.53       150\n",
      "          24       0.34      0.38      0.36        90\n",
      "          25       0.81      0.61      0.70       480\n",
      "          26       0.67      0.57      0.61       180\n",
      "          27       0.42      0.37      0.39        60\n",
      "          28       0.50      0.46      0.48       150\n",
      "          29       0.57      0.51      0.54        90\n",
      "          30       0.44      0.32      0.37       150\n",
      "          31       0.55      0.80      0.65       270\n",
      "          32       0.81      0.58      0.68        60\n",
      "          33       0.87      0.83      0.85       210\n",
      "          34       0.78      0.94      0.85       120\n",
      "          35       0.92      0.88      0.90       390\n",
      "          36       0.84      0.85      0.85       120\n",
      "          37       0.77      0.67      0.71        60\n",
      "          38       0.90      0.80      0.85       690\n",
      "          39       0.88      0.83      0.86        90\n",
      "          40       0.70      0.48      0.57        90\n",
      "          41       0.82      0.67      0.73        60\n",
      "          42       0.60      0.63      0.62        90\n",
      "\n",
      "    accuracy                           0.69     12630\n",
      "   macro avg       0.67      0.62      0.63     12630\n",
      "weighted avg       0.72      0.69      0.69     12630\n",
      "\n",
      "ACCURACY ON TRAINING DATA\n",
      "0.9434058506975439\n",
      "-------------------------------------------------------\n"
     ]
    }
   ],
   "source": [
    "train_model(estimators, trainProcessedData, trainLabels, testProcessedData, testLabels)"
   ]
  },
  {
   "cell_type": "markdown",
   "metadata": {},
   "source": [
    "# SVM với none processed img"
   ]
  },
  {
   "cell_type": "code",
   "execution_count": 12,
   "metadata": {},
   "outputs": [],
   "source": [
    "def resize_img(images):\n",
    "    ret = []\n",
    "    for im in images:\n",
    "        im = cv2.resize(im, (32, 32))\n",
    "        #print(im.shape)\n",
    "        ret.append(im)\n",
    "    ret = np.array(ret)\n",
    "    #print(ret.shape)\n",
    "    return ret\n",
    "\n",
    "estimators = [1, 10, 50, 100, 500]\n",
    "def train_model_ori(estimators, trainData, trainLabels, testData, testLabels):\n",
    "    for n in estimators:\n",
    "        print(f'Linear SVM WITH C={n}')\n",
    "        if os.path.isfile(f\"svm_{str(n)}_ori_nofe.pkl\"):\n",
    "            print(\"[INFO] loading classifier: SVM trained on ori images...\")\n",
    "            svm = pickle.load(open(f\"svm_{str(n)}_ori_nofe.pkl\", 'rb'))\n",
    "            print(\"[INFO] Classifer is loaded as instance ::rf::\")\n",
    "        else:\n",
    "            print(\"[INFO] pre-trained classifier not found. \\n Training Classifier SVM\")\n",
    "            svm = LinearSVC(C=n, class_weight='balanced')\n",
    "            svm.fit(trainData.reshape(len(trainLabels), -1),trainLabels)\n",
    "            print(\"[INFO] Succefully trained the classsifier. \\n Saving the classifier for further use\")\n",
    "            pickle.dump(svm, open(f\"svm_{str(n)}_ori_nofe.pkl\", 'wb')) \n",
    "            print(\"[INFO] Classifier Saved\")\n",
    "            \n",
    "        predictions = svm.predict(testData.reshape(len(testLabels), -1))\n",
    " \n",
    "        # show a final classification report demonstrating the accuracy of the classifier\n",
    "        print(\"EVALUATION ON TESTING DATA FOR\" + str(n) + 'SVM')\n",
    "        print(classification_report(testLabels, predictions))\n",
    "        \n",
    "        print(\"ACCURACY ON TRAINING DATA\")\n",
    "        print(svm.score(trainData.reshape(len(trainLabels), -1), trainLabels))\n",
    "        print('-------------------------------------------------------')"
   ]
  },
  {
   "cell_type": "code",
   "execution_count": 13,
   "metadata": {},
   "outputs": [],
   "source": [
    "ori_train_path = 'Original/trainImages.npy'\n",
    "ori_test_path = 'Original/testImages.npy'"
   ]
  },
  {
   "cell_type": "code",
   "execution_count": 14,
   "metadata": {},
   "outputs": [],
   "source": [
    "trainOriData, trainLabels = load_data(data_dir, ori_train_path, 'Train.csv')"
   ]
  },
  {
   "cell_type": "code",
   "execution_count": 15,
   "metadata": {},
   "outputs": [
    {
     "name": "stdout",
     "output_type": "stream",
     "text": [
      "(39209,)\n",
      "39209\n"
     ]
    },
    {
     "data": {
      "image/png": "[encoded data removed]",
      "text/plain": [
       "<Figure size 432x288 with 1 Axes>"
      ]
     },
     "metadata": {
      "needs_background": "light"
     },
     "output_type": "display_data"
    }
   ],
   "source": [
    "print(trainOriData.shape)\n",
    "print(len(trainLabels))\n",
    "plt.imshow(cv2.cvtColor(trainOriData[0], cv2.COLOR_BGR2RGB))\n",
    "plt.show()"
   ]
  },
  {
   "cell_type": "code",
   "execution_count": 16,
   "metadata": {},
   "outputs": [],
   "source": [
    "testOriData, testLabels = load_data(data_dir, ori_test_path, 'Test.csv')"
   ]
  },
  {
   "cell_type": "code",
   "execution_count": 17,
   "metadata": {
    "scrolled": true
   },
   "outputs": [
    {
     "name": "stdout",
     "output_type": "stream",
     "text": [
      "(12630,)\n",
      "12630\n"
     ]
    },
    {
     "data": {
      "image/png": "[encoded data removed]",
      "text/plain": [
       "<Figure size 432x288 with 1 Axes>"
      ]
     },
     "metadata": {
      "needs_background": "light"
     },
     "output_type": "display_data"
    }
   ],
   "source": [
    "print(testOriData.shape)\n",
    "print(len(testLabels))\n",
    "plt.imshow(cv2.cvtColor(testOriData[0], cv2.COLOR_BGR2RGB))\n",
    "plt.show()"
   ]
  },
  {
   "cell_type": "code",
   "execution_count": 18,
   "metadata": {},
   "outputs": [
    {
     "data": {
      "text/plain": [
       "(39209, 32, 32, 3)"
      ]
     },
     "execution_count": 18,
     "metadata": {},
     "output_type": "execute_result"
    }
   ],
   "source": [
    "trainOriData = resize_img(trainOriData)\n",
    "trainOriData.shape"
   ]
  },
  {
   "cell_type": "code",
   "execution_count": 19,
   "metadata": {},
   "outputs": [],
   "source": [
    "trainOriData, trainLabels = randomize_data(trainLabels, trainOriData)"
   ]
  },
  {
   "cell_type": "code",
   "execution_count": 20,
   "metadata": {},
   "outputs": [
    {
     "data": {
      "text/plain": [
       "(12630, 32, 32, 3)"
      ]
     },
     "execution_count": 20,
     "metadata": {},
     "output_type": "execute_result"
    }
   ],
   "source": [
    "testOriData = resize_img(testOriData)\n",
    "testOriData.shape"
   ]
  },
  {
   "cell_type": "code",
   "execution_count": 21,
   "metadata": {},
   "outputs": [
    {
     "data": {
      "text/plain": [
       "39209"
      ]
     },
     "execution_count": 21,
     "metadata": {},
     "output_type": "execute_result"
    }
   ],
   "source": [
    "len(trainLabels)"
   ]
  },
  {
   "cell_type": "code",
   "execution_count": 22,
   "metadata": {},
   "outputs": [
    {
     "data": {
      "text/plain": [
       "array([16,  1, 38, ...,  6,  7, 10], dtype=int64)"
      ]
     },
     "execution_count": 22,
     "metadata": {},
     "output_type": "execute_result"
    }
   ],
   "source": [
    "testLabels"
   ]
  },
  {
   "cell_type": "code",
   "execution_count": 23,
   "metadata": {
    "scrolled": true
   },
   "outputs": [
    {
     "name": "stdout",
     "output_type": "stream",
     "text": [
      "Linear SVM WITH C=1\n",
      "[INFO] loading classifier: SVM trained on ori images...\n",
      "[INFO] Classifer is loaded as instance ::rf::\n",
      "EVALUATION ON TESTING DATA FOR1SVM\n",
      "              precision    recall  f1-score   support\n",
      "\n",
      "           0       0.56      0.25      0.34        60\n",
      "           1       0.72      0.74      0.73       720\n",
      "           2       0.58      0.88      0.70       750\n",
      "           3       0.74      0.72      0.73       450\n",
      "           4       0.70      0.78      0.74       660\n",
      "           5       0.80      0.59      0.68       630\n",
      "           6       0.82      0.62      0.70       150\n",
      "           7       0.76      0.70      0.72       450\n",
      "           8       0.78      0.83      0.80       450\n",
      "           9       0.86      0.87      0.87       480\n",
      "          10       0.92      0.96      0.94       660\n",
      "          11       0.88      0.83      0.86       420\n",
      "          12       0.98      0.93      0.95       690\n",
      "          13       0.97      0.97      0.97       720\n",
      "          14       0.99      0.80      0.88       270\n",
      "          15       0.74      0.79      0.76       210\n",
      "          16       0.90      0.96      0.93       150\n",
      "          17       0.97      0.84      0.90       360\n",
      "          18       0.79      0.70      0.74       390\n",
      "          19       0.45      0.55      0.49        60\n",
      "          20       0.39      0.62      0.48        90\n",
      "          21       0.65      0.36      0.46        90\n",
      "          22       0.77      0.77      0.77       120\n",
      "          23       0.71      0.55      0.62       150\n",
      "          24       0.43      0.32      0.37        90\n",
      "          25       0.87      0.85      0.86       480\n",
      "          26       0.82      0.78      0.80       180\n",
      "          27       0.70      0.50      0.58        60\n",
      "          28       0.78      0.60      0.68       150\n",
      "          29       0.63      0.81      0.71        90\n",
      "          30       0.56      0.41      0.48       150\n",
      "          31       0.63      0.88      0.73       270\n",
      "          32       0.86      0.98      0.91        60\n",
      "          33       0.95      0.93      0.94       210\n",
      "          34       0.96      0.90      0.93       120\n",
      "          35       0.93      0.90      0.92       390\n",
      "          36       0.85      0.93      0.89       120\n",
      "          37       0.80      0.67      0.73        60\n",
      "          38       0.95      0.93      0.94       690\n",
      "          39       1.00      0.86      0.92        90\n",
      "          40       0.84      0.52      0.64        90\n",
      "          41       0.67      0.68      0.68        60\n",
      "          42       0.64      0.70      0.67        90\n",
      "\n",
      "    accuracy                           0.80     12630\n",
      "   macro avg       0.77      0.74      0.75     12630\n",
      "weighted avg       0.81      0.80      0.80     12630\n",
      "\n",
      "ACCURACY ON TRAINING DATA\n",
      "0.9744956515085822\n",
      "-------------------------------------------------------\n",
      "Linear SVM WITH C=10\n",
      "[INFO] loading classifier: SVM trained on ori images...\n",
      "[INFO] Classifer is loaded as instance ::rf::\n",
      "EVALUATION ON TESTING DATA FOR10SVM\n",
      "              precision    recall  f1-score   support\n",
      "\n",
      "           0       0.55      0.20      0.29        60\n",
      "           1       0.67      0.78      0.72       720\n",
      "           2       0.68      0.84      0.75       750\n",
      "           3       0.68      0.76      0.72       450\n",
      "           4       0.81      0.68      0.74       660\n",
      "           5       0.69      0.73      0.71       630\n",
      "           6       0.84      0.63      0.72       150\n",
      "           7       0.70      0.72      0.71       450\n",
      "           8       0.74      0.86      0.79       450\n",
      "           9       0.86      0.87      0.87       480\n",
      "          10       0.93      0.95      0.94       660\n",
      "          11       0.89      0.82      0.85       420\n",
      "          12       0.98      0.93      0.95       690\n",
      "          13       0.96      0.97      0.96       720\n",
      "          14       0.98      0.79      0.88       270\n",
      "          15       0.77      0.80      0.78       210\n",
      "          16       0.90      0.95      0.93       150\n",
      "          17       0.97      0.86      0.91       360\n",
      "          18       0.84      0.69      0.76       390\n",
      "          19       0.45      0.55      0.50        60\n",
      "          20       0.44      0.60      0.51        90\n",
      "          21       0.66      0.37      0.47        90\n",
      "          22       0.79      0.77      0.78       120\n",
      "          23       0.73      0.55      0.63       150\n",
      "          24       0.44      0.36      0.39        90\n",
      "          25       0.87      0.85      0.86       480\n",
      "          26       0.81      0.78      0.79       180\n",
      "          27       0.70      0.50      0.58        60\n",
      "          28       0.83      0.60      0.69       150\n",
      "          29       0.59      0.78      0.67        90\n",
      "          30       0.55      0.43      0.48       150\n",
      "          31       0.62      0.89      0.73       270\n",
      "          32       0.82      0.98      0.89        60\n",
      "          33       0.95      0.96      0.95       210\n",
      "          34       0.96      0.91      0.94       120\n",
      "          35       0.94      0.89      0.91       390\n",
      "          36       0.87      0.94      0.90       120\n",
      "          37       0.89      0.65      0.75        60\n",
      "          38       0.96      0.93      0.95       690\n",
      "          39       0.99      0.83      0.90        90\n",
      "          40       0.83      0.50      0.62        90\n",
      "          41       0.67      0.67      0.67        60\n",
      "          42       0.65      0.70      0.67        90\n",
      "\n",
      "    accuracy                           0.81     12630\n",
      "   macro avg       0.78      0.74      0.75     12630\n",
      "weighted avg       0.82      0.81      0.81     12630\n",
      "\n",
      "ACCURACY ON TRAINING DATA\n",
      "0.9830396082532071\n",
      "-------------------------------------------------------\n",
      "Linear SVM WITH C=50\n",
      "[INFO] loading classifier: SVM trained on ori images...\n",
      "[INFO] Classifer is loaded as instance ::rf::\n",
      "EVALUATION ON TESTING DATA FOR50SVM\n",
      "              precision    recall  f1-score   support\n",
      "\n",
      "           0       0.41      0.18      0.25        60\n",
      "           1       0.56      0.83      0.67       720\n",
      "           2       0.82      0.74      0.78       750\n",
      "           3       0.63      0.78      0.70       450\n",
      "           4       0.81      0.68      0.74       660\n",
      "           5       0.70      0.75      0.72       630\n",
      "           6       0.84      0.63      0.72       150\n",
      "           7       0.72      0.69      0.71       450\n",
      "           8       0.75      0.85      0.80       450\n",
      "           9       0.88      0.86      0.87       480\n",
      "          10       0.93      0.95      0.94       660\n",
      "          11       0.88      0.84      0.86       420\n",
      "          12       0.98      0.93      0.96       690\n",
      "          13       0.96      0.97      0.96       720\n",
      "          14       0.99      0.79      0.88       270\n",
      "          15       0.80      0.80      0.80       210\n",
      "          16       0.89      0.96      0.92       150\n",
      "          17       0.97      0.86      0.91       360\n",
      "          18       0.83      0.69      0.76       390\n",
      "          19       0.44      0.55      0.49        60\n",
      "          20       0.42      0.59      0.49        90\n",
      "          21       0.67      0.36      0.46        90\n",
      "          22       0.77      0.77      0.77       120\n",
      "          23       0.68      0.56      0.61       150\n",
      "          24       0.44      0.34      0.39        90\n",
      "          25       0.88      0.85      0.87       480\n",
      "          26       0.82      0.78      0.80       180\n",
      "          27       0.68      0.50      0.58        60\n",
      "          28       0.80      0.61      0.69       150\n",
      "          29       0.59      0.79      0.68        90\n",
      "          30       0.56      0.43      0.48       150\n",
      "          31       0.63      0.87      0.73       270\n",
      "          32       0.82      0.98      0.89        60\n",
      "          33       0.95      0.96      0.95       210\n",
      "          34       0.98      0.91      0.94       120\n",
      "          35       0.94      0.89      0.91       390\n",
      "          36       0.87      0.94      0.90       120\n",
      "          37       0.88      0.63      0.74        60\n",
      "          38       0.96      0.94      0.95       690\n",
      "          39       0.99      0.83      0.90        90\n",
      "          40       0.85      0.58      0.69        90\n",
      "          41       0.68      0.68      0.68        60\n",
      "          42       0.64      0.70      0.67        90\n",
      "\n",
      "    accuracy                           0.81     12630\n",
      "   macro avg       0.77      0.74      0.75     12630\n",
      "weighted avg       0.82      0.81      0.81     12630\n",
      "\n",
      "ACCURACY ON TRAINING DATA\n"
     ]
    },
    {
     "name": "stdout",
     "output_type": "stream",
     "text": [
      "0.9737815297508225\n",
      "-------------------------------------------------------\n",
      "Linear SVM WITH C=100\n",
      "[INFO] loading classifier: SVM trained on ori images...\n",
      "[INFO] Classifer is loaded as instance ::rf::\n",
      "EVALUATION ON TESTING DATA FOR100SVM\n",
      "              precision    recall  f1-score   support\n",
      "\n",
      "           0       0.52      0.27      0.35        60\n",
      "           1       0.68      0.75      0.71       720\n",
      "           2       0.73      0.82      0.77       750\n",
      "           3       0.77      0.70      0.74       450\n",
      "           4       0.74      0.74      0.74       660\n",
      "           5       0.66      0.78      0.72       630\n",
      "           6       0.84      0.63      0.72       150\n",
      "           7       0.67      0.72      0.70       450\n",
      "           8       0.76      0.82      0.79       450\n",
      "           9       0.85      0.88      0.86       480\n",
      "          10       0.92      0.96      0.94       660\n",
      "          11       0.87      0.83      0.85       420\n",
      "          12       0.98      0.93      0.96       690\n",
      "          13       0.95      0.97      0.96       720\n",
      "          14       0.99      0.81      0.89       270\n",
      "          15       0.77      0.80      0.79       210\n",
      "          16       0.89      0.95      0.92       150\n",
      "          17       0.97      0.85      0.91       360\n",
      "          18       0.82      0.69      0.75       390\n",
      "          19       0.43      0.55      0.48        60\n",
      "          20       0.42      0.61      0.50        90\n",
      "          21       0.69      0.38      0.49        90\n",
      "          22       0.77      0.77      0.77       120\n",
      "          23       0.71      0.55      0.62       150\n",
      "          24       0.42      0.32      0.36        90\n",
      "          25       0.87      0.85      0.86       480\n",
      "          26       0.82      0.78      0.80       180\n",
      "          27       0.68      0.50      0.58        60\n",
      "          28       0.79      0.62      0.69       150\n",
      "          29       0.61      0.80      0.69        90\n",
      "          30       0.56      0.43      0.49       150\n",
      "          31       0.65      0.86      0.74       270\n",
      "          32       0.83      0.98      0.90        60\n",
      "          33       0.95      0.96      0.95       210\n",
      "          34       0.96      0.91      0.94       120\n",
      "          35       0.94      0.89      0.91       390\n",
      "          36       0.85      0.94      0.89       120\n",
      "          37       0.83      0.65      0.73        60\n",
      "          38       0.96      0.93      0.95       690\n",
      "          39       0.99      0.83      0.90        90\n",
      "          40       0.84      0.51      0.63        90\n",
      "          41       0.65      0.67      0.66        60\n",
      "          42       0.65      0.71      0.68        90\n",
      "\n",
      "    accuracy                           0.81     12630\n",
      "   macro avg       0.77      0.74      0.75     12630\n",
      "weighted avg       0.81      0.81      0.81     12630\n",
      "\n",
      "ACCURACY ON TRAINING DATA\n",
      "0.9831416256471729\n",
      "-------------------------------------------------------\n",
      "Linear SVM WITH C=500\n",
      "[INFO] loading classifier: SVM trained on ori images...\n",
      "[INFO] Classifer is loaded as instance ::rf::\n",
      "EVALUATION ON TESTING DATA FOR500SVM\n",
      "              precision    recall  f1-score   support\n",
      "\n",
      "           0       0.29      0.07      0.11        60\n",
      "           1       0.55      0.83      0.66       720\n",
      "           2       0.74      0.79      0.77       750\n",
      "           3       0.72      0.70      0.71       450\n",
      "           4       0.78      0.71      0.74       660\n",
      "           5       0.68      0.73      0.70       630\n",
      "           6       0.83      0.63      0.72       150\n",
      "           7       0.78      0.65      0.71       450\n",
      "           8       0.77      0.83      0.79       450\n",
      "           9       0.87      0.87      0.87       480\n",
      "          10       0.94      0.96      0.95       660\n",
      "          11       0.90      0.82      0.86       420\n",
      "          12       0.98      0.92      0.94       690\n",
      "          13       0.97      0.97      0.97       720\n",
      "          14       0.99      0.79      0.88       270\n",
      "          15       0.80      0.78      0.79       210\n",
      "          16       0.91      0.95      0.93       150\n",
      "          17       0.98      0.85      0.91       360\n",
      "          18       0.69      0.79      0.73       390\n",
      "          19       0.45      0.57      0.50        60\n",
      "          20       0.44      0.57      0.49        90\n",
      "          21       0.67      0.37      0.47        90\n",
      "          22       0.84      0.77      0.80       120\n",
      "          23       0.71      0.56      0.62       150\n",
      "          24       0.46      0.29      0.35        90\n",
      "          25       0.89      0.86      0.87       480\n",
      "          26       0.84      0.77      0.81       180\n",
      "          27       0.83      0.50      0.62        60\n",
      "          28       0.84      0.60      0.70       150\n",
      "          29       0.62      0.80      0.70        90\n",
      "          30       0.57      0.41      0.48       150\n",
      "          31       0.64      0.87      0.73       270\n",
      "          32       0.89      0.98      0.94        60\n",
      "          33       0.96      0.95      0.95       210\n",
      "          34       0.98      0.89      0.93       120\n",
      "          35       0.93      0.91      0.92       390\n",
      "          36       0.87      0.93      0.90       120\n",
      "          37       0.88      0.62      0.73        60\n",
      "          38       0.95      0.94      0.94       690\n",
      "          39       0.99      0.81      0.89        90\n",
      "          40       0.84      0.51      0.63        90\n",
      "          41       0.69      0.67      0.68        60\n",
      "          42       0.67      0.71      0.69        90\n",
      "\n",
      "    accuracy                           0.80     12630\n",
      "   macro avg       0.78      0.73      0.75     12630\n",
      "weighted avg       0.81      0.80      0.80     12630\n",
      "\n",
      "ACCURACY ON TRAINING DATA\n",
      "0.9728123645081487\n",
      "-------------------------------------------------------\n"
     ]
    }
   ],
   "source": [
    "train_model_ori(estimators, trainOriData, trainLabels, testOriData, testLabels)"
   ]
  },
  {
   "cell_type": "code",
   "execution_count": null,
   "metadata": {},
   "outputs": [],
   "source": []
  }
 ],
 "metadata": {
  "kernelspec": {
   "display_name": "Python 3",
   "language": "python",
   "name": "python3"
  },
  "language_info": {
   "codemirror_mode": {
    "name": "ipython",
    "version": 3
   },
   "file_extension": ".py",
   "mimetype": "text/x-python",
   "name": "python",
   "nbconvert_exporter": "python",
   "pygments_lexer": "ipython3",
   "version": "3.8.6"
  }
 },
 "nbformat": 4,
 "nbformat_minor": 4
}
